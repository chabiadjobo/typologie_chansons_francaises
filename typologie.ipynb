{
 "cells": [
  {
   "cell_type": "markdown",
   "metadata": {},
   "source": [
    "# Librairies à importer"
   ]
  },
  {
   "cell_type": "code",
   "execution_count": 12,
   "metadata": {},
   "outputs": [],
   "source": [
    "import pandas as pd\n",
    "import ydata_profiling\n",
    "from ydata_profiling import ProfileReport\n"
   ]
  },
  {
   "cell_type": "markdown",
   "metadata": {},
   "source": [
    "# Étape 1 : Préparation des données"
   ]
  },
  {
   "cell_type": "markdown",
   "metadata": {},
   "source": [
    "## Néttoyage de la base"
   ]
  },
  {
   "cell_type": "code",
   "execution_count": 2,
   "metadata": {},
   "outputs": [],
   "source": [
    "data = pd.read_csv('base_excel/songs_with_release_year.csv')"
   ]
  },
  {
   "cell_type": "markdown",
   "metadata": {},
   "source": [
    "print(data.info())\n",
    "print(data.describe())"
   ]
  },
  {
   "cell_type": "code",
   "execution_count": 3,
   "metadata": {},
   "outputs": [],
   "source": [
    "## Suppression des variables\n",
    "variables_a_supprimer = ['pourcentage_langue3', 'langue3', 'pourcentage_langue2', 'langue2', 'langue1', 'pourcentage_langue1', 'album_name', 'artists', 'name', 'lyrics']\n",
    "data = data.drop(columns=variables_a_supprimer, errors='ignore')"
   ]
  },
  {
   "cell_type": "code",
   "execution_count": 4,
   "metadata": {},
   "outputs": [
    {
     "name": "stdout",
     "output_type": "stream",
     "text": [
      "les modalité de la variable key sont ['7' 'F#' '11' '2' '5' '10.0' '1.0' '0' '1' '4' '8' '9' '6' 'B' '2.0'\n",
      " '11.0' '10' '3.0' '0.0' '6.0' 'D' 'F' '5.0' '8.0' '3' '7.0' '4.0' 'C'\n",
      " 'G#' 'A' 'E' 'G' '9.0' 'D#' 'A#' 'C#']\n",
      "les modalité de la variable mode sont ['1' 'Minor' '0' '0.0' '1.0' 'Major']\n"
     ]
    }
   ],
   "source": [
    "obtenir_modalite=['key','mode']\n",
    "for var in obtenir_modalite:\n",
    "    modalites_uniques = data[var].unique()\n",
    "    print(f'les modalité de la variable {var} sont {modalites_uniques}')\n"
   ]
  },
  {
   "cell_type": "code",
   "execution_count": 5,
   "metadata": {},
   "outputs": [
    {
     "name": "stdout",
     "output_type": "stream",
     "text": [
      "key\n",
      "7       1782\n",
      "0       1707\n",
      "9       1581\n",
      "2       1552\n",
      "4       1229\n",
      "5       1166\n",
      "1       1104\n",
      "11      1095\n",
      "10       856\n",
      "6        850\n",
      "8        779\n",
      "3        470\n",
      "0.0      318\n",
      "7.0      275\n",
      "9.0      250\n",
      "1.0      239\n",
      "2.0      221\n",
      "11.0     209\n",
      "4.0      203\n",
      "C        202\n",
      "10.0     193\n",
      "5.0      193\n",
      "8.0      190\n",
      "D        181\n",
      "6.0      180\n",
      "A        131\n",
      "G        125\n",
      "F        108\n",
      "B        106\n",
      "C#       104\n",
      "A#       101\n",
      "E        100\n",
      "3.0       96\n",
      "G#        78\n",
      "F#        61\n",
      "D#        58\n",
      "Name: count, dtype: int64\n",
      "mode\n",
      "1        7950\n",
      "0        6221\n",
      "0.0      1299\n",
      "1.0      1268\n",
      "Major     933\n",
      "Minor     422\n",
      "Name: count, dtype: int64\n"
     ]
    }
   ],
   "source": [
    "frequence_key = data['key'].value_counts()\n",
    "frequence_mode = data['mode'].value_counts()\n",
    "print(frequence_key)\n",
    "print(frequence_mode)"
   ]
  },
  {
   "cell_type": "code",
   "execution_count": 6,
   "metadata": {},
   "outputs": [],
   "source": [
    "# Dictionnaires de mapping\n",
    "note_to_int = {\n",
    "    'C': 0, 'C#': 1, 'Db': 1, 'D': 2, 'D#': 3, 'Eb': 3,\n",
    "    'E': 4, 'F': 5, 'F#': 6, 'Gb': 6, 'G': 7, 'G#': 8, 'Ab': 8,\n",
    "    'A': 9, 'A#': 10, 'Bb': 10, 'B': 11\n",
    "}\n",
    "\n",
    "mode_to_int = {\n",
    "    'Minor': 0, 'Major': 1\n",
    "}\n",
    "\n",
    "def convert_key(value, mapping):\n",
    "    try:\n",
    "        # Convertir les valeurs décimales en entiers\n",
    "        if isinstance(value, str) and '.' in value:\n",
    "            value = int(float(value))\n",
    "        # Convertir les notes musicales en entiers\n",
    "        return int(mapping.get(value, value))  # Retourner la valeur originale si elle n'est pas trouvée dans le dictionnaire\n",
    "    except ValueError:\n",
    "        # Si la conversion échoue, retourner la valeur originale\n",
    "        return value\n",
    "\n",
    "# Appliquer la conversion\n",
    "data['key'] = data['key'].apply(lambda x: convert_key(x, note_to_int))\n",
    "data['mode'] = data['mode'].apply(lambda x: convert_key(x, mode_to_int))"
   ]
  },
  {
   "cell_type": "code",
   "execution_count": 7,
   "metadata": {},
   "outputs": [
    {
     "name": "stdout",
     "output_type": "stream",
     "text": [
      "les modalité de la variable key sont [ 7  6 11  2  5 10  1  0  4  8  9  3]\n",
      "les modalité de la variable mode sont [1 0]\n"
     ]
    }
   ],
   "source": [
    "obtenir_modalite=['key','mode']\n",
    "for var in obtenir_modalite:\n",
    "    modalites_uniques = data[var].unique()\n",
    "    print(f'les modalité de la variable {var} sont {modalites_uniques}')"
   ]
  },
  {
   "cell_type": "code",
   "execution_count": 8,
   "metadata": {},
   "outputs": [
    {
     "name": "stdout",
     "output_type": "stream",
     "text": [
      "key\n",
      "0     2227\n",
      "7     2182\n",
      "9     1962\n",
      "2     1954\n",
      "4     1532\n",
      "5     1467\n",
      "1     1447\n",
      "11    1410\n",
      "10    1150\n",
      "6     1091\n",
      "8     1047\n",
      "3      624\n",
      "Name: count, dtype: int64\n",
      "mode\n",
      "1    10151\n",
      "0     7942\n",
      "Name: count, dtype: int64\n"
     ]
    }
   ],
   "source": [
    "frequence_key = data['key'].value_counts()\n",
    "frequence_mode = data['mode'].value_counts()\n",
    "print(frequence_key)\n",
    "print(frequence_mode)"
   ]
  },
  {
   "cell_type": "code",
   "execution_count": 9,
   "metadata": {},
   "outputs": [
    {
     "name": "stdout",
     "output_type": "stream",
     "text": [
      "<class 'pandas.core.frame.DataFrame'>\n",
      "RangeIndex: 18093 entries, 0 to 18092\n",
      "Data columns (total 14 columns):\n",
      " #   Column            Non-Null Count  Dtype  \n",
      "---  ------            --------------  -----  \n",
      " 0   id                18093 non-null  object \n",
      " 1   danceability      18093 non-null  float64\n",
      " 2   energy            18093 non-null  float64\n",
      " 3   key               18093 non-null  int64  \n",
      " 4   loudness          18093 non-null  float64\n",
      " 5   mode              18093 non-null  int64  \n",
      " 6   speechiness       18093 non-null  float64\n",
      " 7   acousticness      18093 non-null  float64\n",
      " 8   instrumentalness  18093 non-null  float64\n",
      " 9   liveness          18093 non-null  float64\n",
      " 10  valence           18093 non-null  float64\n",
      " 11  tempo             18093 non-null  float64\n",
      " 12  duration_ms       18093 non-null  float64\n",
      " 13  release_year      18093 non-null  float64\n",
      "dtypes: float64(11), int64(2), object(1)\n",
      "memory usage: 1.9+ MB\n"
     ]
    }
   ],
   "source": [
    "data.info()"
   ]
  },
  {
   "cell_type": "markdown",
   "metadata": {},
   "source": [
    "## Exploration de la data"
   ]
  },
  {
   "cell_type": "code",
   "execution_count": 13,
   "metadata": {},
   "outputs": [
    {
     "name": "stderr",
     "output_type": "stream",
     "text": [
      "Summarize dataset: 100%|██████████| 167/167 [00:11<00:00, 14.50it/s, Completed]                                \n",
      "Generate report structure: 100%|██████████| 1/1 [00:03<00:00,  3.46s/it]\n",
      "Render HTML: 100%|██████████| 1/1 [00:02<00:00,  2.92s/it]\n",
      "Export report to file: 100%|██████████| 1/1 [00:00<00:00, 37.05it/s]\n"
     ]
    }
   ],
   "source": [
    "profile = ProfileReport(data, title=\"Pandas Profiling Report\")\n",
    "profile.to_file(\"rapport.html\")"
   ]
  },
  {
   "cell_type": "code",
   "execution_count": 15,
   "metadata": {},
   "outputs": [
    {
     "name": "stdout",
     "output_type": "stream",
     "text": [
      "release_year\n",
      "2018.0    1017\n",
      "2019.0     959\n",
      "2004.0     849\n",
      "2020.0     828\n",
      "2006.0     807\n",
      "          ... \n",
      "1924.0       2\n",
      "1925.0       2\n",
      "1954.0       2\n",
      "1921.0       2\n",
      "1946.0       1\n",
      "Name: count, Length: 93, dtype: int64\n"
     ]
    }
   ],
   "source": [
    "dd=data['release_year'].value_counts()\n",
    "print(dd)"
   ]
  }
 ],
 "metadata": {
  "kernelspec": {
   "display_name": "venvir",
   "language": "python",
   "name": "python3"
  },
  "language_info": {
   "codemirror_mode": {
    "name": "ipython",
    "version": 3
   },
   "file_extension": ".py",
   "mimetype": "text/x-python",
   "name": "python",
   "nbconvert_exporter": "python",
   "pygments_lexer": "ipython3",
   "version": "3.10.11"
  }
 },
 "nbformat": 4,
 "nbformat_minor": 2
}
